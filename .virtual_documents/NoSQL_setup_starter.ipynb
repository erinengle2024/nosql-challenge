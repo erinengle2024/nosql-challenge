








!mongoimport --type json -d uk_food -c establishments --drop --jsonArray Resources/establishments.json


# Import dependencies
from pymongo import MongoClient
from pprint import pprint


# Create an instance of MongoClient
mongo = MongoClient(port=27017)


# confirm that our new database was created
mongo.list_database_names()


# assign the uk_food database to a variable name
db = mongo['uk_food']


# review the collections in our new database
collections = db.list_collection_names()

print("Collections in the database:")
for collection in collections:
    print(collection)


# review a document in the establishments collection
document = db['establishments'].find_one()

# Print the document
print("Document in the establishments collection:")
pprint(document)


# assign the collection to a variable
establishments = db['establishments']








# Create a dictionary for the new restaurant data
restaurant_data = {
    "BusinessName":"Penang Flavours",
    "BusinessType":"Restaurant/Cafe/Canteen",
    "BusinessTypeID":"",
    "AddressLine1":"Penang Flavours",
    "AddressLine2":"146A Plumstead Rd",
    "AddressLine3":"London",
    "AddressLine4":"",
    "PostCode":"SE18 7DY",
    "Phone":"",
    "LocalAuthorityCode":"511",
    "LocalAuthorityName":"Greenwich",
    "LocalAuthorityWebSite":"http://www.royalgreenwich.gov.uk",
    "LocalAuthorityEmailAddress":"health@royalgreenwich.gov.uk",
    "scores":{
        "Hygiene":"",
        "Structural":"",
        "ConfidenceInManagement":""
    },
    "SchemeType":"FHRS",
    "geocode":{
        "longitude":"0.08384000",
        "latitude":"51.49014200"
    },
    "RightToReply":"",
    "Distance":4623.9723280747176,
    "NewRatingPending":True
}



# Insert the new restaurant into the collection
establishments.insert_many([restaurant_data])


# Check that the new restaurant was inserted
establishments.find_one({"BusinessName": "Penang Flavours"})





# Find the BusinessTypeID for "Restaurant/Cafe/Canteen" and return only the BusinessTypeID and BusinessType fields

# query to find the BusinessTypeID for "Restaurant/Cafe/Canteen"
query = {"BusinessType": "Restaurant/Cafe/Canteen"}

# projection to include only the BusinessTypeID and BusinessType fields
projection = {"BusinessTypeID": 1, "BusinessType": 1}

# Execute the query
cursor = establishments.find(query, projection)

# Initialize a counter
count = 0

# Print the first 5 results
for result in cursor:
    pprint(result)
    count += 1
    if count == 5:
        break





# Update the new restaurant with the correct BusinessTypeID

# Define the filter to find the document to update
filter_query = {"BusinessName": "Penang Flavours"}

# Define the update operation
update_ID = {
    "$set": {
        "BusinessTypeID": 1
    }
}

# Execute the update operation
update_result = establishments.update_one(filter_query, update_ID)


# Confirm that the new restaurant was updated

# locate the updated document
filter_query = {"BusinessName": "Penang Flavours"}

# Define the projection to include only the "BusinessName" and "BusinessTypeID" fields
projection = {"BusinessName": 1, "BusinessTypeID": 1, "_id": 0}

# Execute the query to find the updated document with the specified projection
updated_document = establishments.find_one(filter_query, projection)

#print the results
pprint(updated_document)





# Find how many documents have LocalAuthorityName as "Dover"

# locate the documents with LocalAuthorityName as "Dover"
filter_query = {"LocalAuthorityName": "Dover"}

# Count the documents that match the filter
count = establishments.count_documents(filter_query)

# Print the count
print("Number of documents with LocalAuthorityName as 'Dover':", count)



# Delete all documents where LocalAuthorityName is "Dover"

# Delete all documents that match the filter_query 
delete_result = establishments.delete_many(filter_query)

# Print the number of documents deleted
print("Number of documents deleted:", delete_result.deleted_count)


# Check if any remaining documents include Dover
# Define the filter to find documents with LocalAuthorityName as "Dover"
filter_query = {"LocalAuthorityName": "Dover"}

# Count the documents that match the filter
remaining_count = establishments.count_documents(filter_query)

# Check if any remaining documents include "Dover"
if remaining_count > 0:
    print("There are still documents with LocalAuthorityName as 'Dover'.")
else:
    print("There are no remaining documents with LocalAuthorityName as 'Dover'.")


# Check that other documents remain with 'find_one'

# Define a filter query to retrieve any document that doesn't have LocalAuthorityName as "Dover"
filter_query = {"LocalAuthorityName": {"$ne": "Dover"}}

# Find any document that meets the filter criteria
remaining_document = establishments.find_one(filter_query)

# Print the remaining document if found
pprint(remaining_document)








# Change the data type from String to Decimal for longitude and latitude

# Define the update operation to convert longitude and latitude to decimal numbers
update_operation = [
    {"$set": {"geocode.longitude": {"$toDouble": "$geocode.longitude"}, "geocode.latitude": {"$toDouble": "$geocode.latitude"}}}
]

# Execute the update operation
update_result = establishments.update_many({}, update_operation)

# Print the number of documents modified
print("Number of documents modified:", update_result.modified_count)


# Find documents to check the coordinates
sample_documents = establishments.find().limit(5)

# Iterate over the sample documents
for doc in sample_documents:
    # Print the geocode fields to check if they are numbers
    print("Longitude:", doc["geocode"]["longitude"], "Latitude:", doc["geocode"]["latitude"])





# Set non 1-5 Rating Values to Null
non_ratings = ["AwaitingInspection", "Awaiting Inspection", "AwaitingPublication", "Pass", "Exempt"]
establishments.update_many({"RatingValue": {"$in": non_ratings}}, [ {'$set':{ "RatingValue" : None}} ])


# Change the data type from String to Integer for RatingValue

# Define the filter to match documents where RatingValue is stored as a string
filter_query = {
    "RatingValue": {"$type": "string"}
}

# Define the update operation to convert RatingValue to integer numbers
update_operation = [{
    "$set": {
        "RatingValue": {"$toInt": "$RatingValue"}
    }
}]

# Execute the update operation
update_result = establishments.update_many(filter_query, update_operation)

# Print the number of documents modified
print("Number of documents modified:", update_result.modified_count)


# Check that the coordinates and rating value are now numbers

# Find a document to check the coordinates and rating value
sample_document = establishments.find_one()

# Print the sample document to inspect its fields
print("Sample document:")
pprint(sample_document)



